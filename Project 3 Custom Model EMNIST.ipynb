{
 "cells": [
  {
   "cell_type": "code",
   "execution_count": 1,
   "metadata": {},
   "outputs": [],
   "source": [
    "import tensorflow as tf\n",
    "import numpy as np\n",
    "import datetime, os"
   ]
  },
  {
   "cell_type": "code",
   "execution_count": 2,
   "metadata": {},
   "outputs": [],
   "source": [
    "from scipy import io as sio"
   ]
  },
  {
   "cell_type": "code",
   "execution_count": 3,
   "metadata": {},
   "outputs": [],
   "source": [
    "with tf.Session() as sess:\n",
    "  devices = sess.list_devices()"
   ]
  },
  {
   "cell_type": "code",
   "execution_count": 4,
   "metadata": {},
   "outputs": [
    {
     "data": {
      "text/plain": [
       "[_DeviceAttributes(/job:localhost/replica:0/task:0/device:CPU:0, CPU, 268435456, 6817330511422053373),\n",
       " _DeviceAttributes(/job:localhost/replica:0/task:0/device:GPU:0, GPU, 9205221950, 11710985869349011853)]"
      ]
     },
     "execution_count": 4,
     "metadata": {},
     "output_type": "execute_result"
    }
   ],
   "source": [
    "devices"
   ]
  },
  {
   "cell_type": "code",
   "execution_count": 5,
   "metadata": {},
   "outputs": [],
   "source": [
    "emnist = sio.loadmat(\"emnist-letters.mat\")\n",
    "x_train = emnist[\"dataset\"]['train'][0,0]['images'][0,0]\n",
    "#x_train = x_train.astype(np.float32)\n",
    "\n",
    "y_train = emnist[\"dataset\"]['train'][0,0]['labels'][0,0]\n",
    "\n",
    "x_test = emnist[\"dataset\"]['test'][0,0]['images'][0,0]\n",
    "#x_test = x_test.astype(np.float32)\n",
    "\n",
    "y_test = emnist[\"dataset\"]['test'][0,0]['labels'][0,0]"
   ]
  },
  {
   "cell_type": "code",
   "execution_count": 6,
   "metadata": {},
   "outputs": [],
   "source": [
    "x_train = x_train.reshape(x_train.shape[0], 28, 28, 1)\n",
    "x_test = x_test.reshape(x_test.shape[0], 28, 28, 1)"
   ]
  },
  {
   "cell_type": "code",
   "execution_count": 7,
   "metadata": {},
   "outputs": [],
   "source": [
    "x_train, x_test = x_train / 255.0, x_test / 255.0"
   ]
  },
  {
   "cell_type": "code",
   "execution_count": 8,
   "metadata": {},
   "outputs": [],
   "source": [
    "from sklearn.preprocessing import LabelBinarizer\n",
    "lb = LabelBinarizer()\n",
    "lb.fit([1,2,3,4,5,6,7,8,9,10,11,12,13,14,15,16,17,18,19,20,21,22,23,24,25,26])\n",
    "#lb.classes_array([1,2,3,4,5,6,7,8,9,10,11,12,13,14,15,16,17,18,19,20,21,22,23,24,25,26])\n",
    "y_train = lb.transform(y_train)\n",
    "y_test = lb.transform(y_test)"
   ]
  },
  {
   "cell_type": "code",
   "execution_count": 9,
   "metadata": {},
   "outputs": [
    {
     "data": {
      "text/plain": [
       "<matplotlib.image.AxesImage at 0x258df2e1780>"
      ]
     },
     "execution_count": 9,
     "metadata": {},
     "output_type": "execute_result"
    }
   ],
   "source": [
    "import matplotlib.pyplot as plt\n",
    "\n",
    "img = x_train[15]\n",
    "plt.imshow(img[0], cmap='gray')"
   ]
  },
  {
   "cell_type": "code",
   "execution_count": 10,
   "metadata": {},
   "outputs": [
    {
     "name": "stdout",
     "output_type": "stream",
     "text": [
      "WARNING:tensorflow:From C:\\Users\\austi\\Anaconda2\\lib\\site-packages\\tensorflow\\python\\ops\\resource_variable_ops.py:435: colocate_with (from tensorflow.python.framework.ops) is deprecated and will be removed in a future version.\n",
      "Instructions for updating:\n",
      "Colocations handled automatically by placer.\n",
      "WARNING:tensorflow:From C:\\Users\\austi\\Anaconda2\\lib\\site-packages\\tensorflow\\python\\keras\\layers\\core.py:143: calling dropout (from tensorflow.python.ops.nn_ops) with keep_prob is deprecated and will be removed in a future version.\n",
      "Instructions for updating:\n",
      "Please use `rate` instead of `keep_prob`. Rate should be set to `rate = 1 - keep_prob`.\n"
     ]
    }
   ],
   "source": [
    "model = tf.keras.models.Sequential([\n",
    "    tf.keras.layers.Conv2D(64, (3,3), input_shape=(28, 28, 1), name=\"Input-Conv-1\", padding='same'),\n",
    "#    tf.keras.layers.BatchNormalization(),\n",
    "    tf.keras.layers.MaxPool2D(),\n",
    "    tf.keras.layers.Dropout(0.2),\n",
    "    tf.keras.layers.Conv2D(128, (3,3), name= \"Conv-2\", padding='same'),\n",
    "#    tf.keras.layers.BatchNormalization(),\n",
    "    tf.keras.layers.MaxPool2D(),\n",
    "    tf.keras.layers.Dropout(0.2),\n",
    "    tf.keras.layers.Conv2D(256, (3,3), name=\"Conv-3\", padding='same'),\n",
    "#    tf.keras.layers.BatchNormalization(),\n",
    "    tf.keras.layers.MaxPool2D(),\n",
    "    tf.keras.layers.Dropout(0.2),\n",
    "    tf.keras.layers.Flatten(),\n",
    "    tf.keras.layers.Dense(64, activation=\"relu\", name=\"Dense\"),\n",
    "    tf.keras.layers.BatchNormalization(),\n",
    "    tf.keras.layers.Dense(32, activation=\"relu\", name=\"Denser\"),\n",
    "    tf.keras.layers.Dense(26, activation=\"softmax\", name=\"Output-Dense\")\n",
    "])"
   ]
  },
  {
   "cell_type": "code",
   "execution_count": 11,
   "metadata": {},
   "outputs": [],
   "source": [
    "model.compile(optimizer='adam',\n",
    "              loss='categorical_crossentropy',\n",
    "              metrics=['accuracy'])"
   ]
  },
  {
   "cell_type": "code",
   "execution_count": 12,
   "metadata": {},
   "outputs": [
    {
     "name": "stdout",
     "output_type": "stream",
     "text": [
      "_________________________________________________________________\n",
      "Layer (type)                 Output Shape              Param #   \n",
      "=================================================================\n",
      "Input-Conv-1 (Conv2D)        (None, 28, 28, 64)        640       \n",
      "_________________________________________________________________\n",
      "max_pooling2d (MaxPooling2D) (None, 14, 14, 64)        0         \n",
      "_________________________________________________________________\n",
      "dropout (Dropout)            (None, 14, 14, 64)        0         \n",
      "_________________________________________________________________\n",
      "Conv-2 (Conv2D)              (None, 14, 14, 128)       73856     \n",
      "_________________________________________________________________\n",
      "max_pooling2d_1 (MaxPooling2 (None, 7, 7, 128)         0         \n",
      "_________________________________________________________________\n",
      "dropout_1 (Dropout)          (None, 7, 7, 128)         0         \n",
      "_________________________________________________________________\n",
      "Conv-3 (Conv2D)              (None, 7, 7, 256)         295168    \n",
      "_________________________________________________________________\n",
      "max_pooling2d_2 (MaxPooling2 (None, 3, 3, 256)         0         \n",
      "_________________________________________________________________\n",
      "dropout_2 (Dropout)          (None, 3, 3, 256)         0         \n",
      "_________________________________________________________________\n",
      "flatten (Flatten)            (None, 2304)              0         \n",
      "_________________________________________________________________\n",
      "Dense (Dense)                (None, 64)                147520    \n",
      "_________________________________________________________________\n",
      "batch_normalization_v1 (Batc (None, 64)                256       \n",
      "_________________________________________________________________\n",
      "Denser (Dense)               (None, 32)                2080      \n",
      "_________________________________________________________________\n",
      "Output-Dense (Dense)         (None, 26)                858       \n",
      "=================================================================\n",
      "Total params: 520,378\n",
      "Trainable params: 520,250\n",
      "Non-trainable params: 128\n",
      "_________________________________________________________________\n"
     ]
    }
   ],
   "source": [
    "model.summary()"
   ]
  },
  {
   "cell_type": "code",
   "execution_count": 13,
   "metadata": {},
   "outputs": [],
   "source": [
    "logdir = os.path.join(\"logs\", datetime.datetime.now().strftime(\"%Y%m%d-%H%M%S\"))\n",
    "tensorboard_callback = tf.keras.callbacks.TensorBoard(logdir, histogram_freq=1)"
   ]
  },
  {
   "cell_type": "code",
   "execution_count": 14,
   "metadata": {},
   "outputs": [
    {
     "name": "stdout",
     "output_type": "stream",
     "text": [
      "Train on 93600 samples, validate on 31200 samples\n",
      "WARNING:tensorflow:From C:\\Users\\austi\\Anaconda2\\lib\\site-packages\\tensorflow\\python\\ops\\math_ops.py:3066: to_int32 (from tensorflow.python.ops.math_ops) is deprecated and will be removed in a future version.\n",
      "Instructions for updating:\n",
      "Use tf.cast instead.\n",
      "Epoch 1/20\n",
      "93600/93600 [==============================] - 19s 204us/sample - loss: 0.5483 - acc: 0.8338 - val_loss: 0.3563 - val_acc: 0.8889\n",
      "Epoch 2/20\n",
      "93600/93600 [==============================] - 17s 182us/sample - loss: 0.2906 - acc: 0.9046 - val_loss: 0.2577 - val_acc: 0.9137\n",
      "Epoch 3/20\n",
      "93600/93600 [==============================] - 17s 181us/sample - loss: 0.2506 - acc: 0.9159 - val_loss: 0.2178 - val_acc: 0.9292\n",
      "Epoch 4/20\n",
      "93600/93600 [==============================] - 17s 182us/sample - loss: 0.2222 - acc: 0.9254 - val_loss: 0.2393 - val_acc: 0.9232\n",
      "Epoch 5/20\n",
      "93600/93600 [==============================] - 17s 180us/sample - loss: 0.2059 - acc: 0.9295 - val_loss: 0.1901 - val_acc: 0.9364\n",
      "Epoch 6/20\n",
      "93600/93600 [==============================] - 17s 179us/sample - loss: 0.1982 - acc: 0.9318 - val_loss: 0.1955 - val_acc: 0.9361\n",
      "Epoch 7/20\n",
      "93600/93600 [==============================] - 17s 179us/sample - loss: 0.1798 - acc: 0.9370 - val_loss: 0.1916 - val_acc: 0.9381\n",
      "Epoch 8/20\n",
      "93600/93600 [==============================] - 17s 179us/sample - loss: 0.1716 - acc: 0.9386 - val_loss: 0.1956 - val_acc: 0.9371\n",
      "Epoch 9/20\n",
      "93600/93600 [==============================] - 17s 186us/sample - loss: 0.1632 - acc: 0.9414 - val_loss: 0.1876 - val_acc: 0.9383\n",
      "Epoch 10/20\n",
      "93600/93600 [==============================] - 18s 194us/sample - loss: 0.1568 - acc: 0.9432 - val_loss: 0.1777 - val_acc: 0.9425\n",
      "Epoch 11/20\n",
      "93600/93600 [==============================] - 18s 192us/sample - loss: 0.1497 - acc: 0.9460 - val_loss: 0.1896 - val_acc: 0.9378\n",
      "Epoch 12/20\n",
      "93600/93600 [==============================] - 18s 187us/sample - loss: 0.1442 - acc: 0.9471 - val_loss: 0.1807 - val_acc: 0.9414\n",
      "Epoch 13/20\n",
      "93600/93600 [==============================] - 17s 184us/sample - loss: 0.1406 - acc: 0.9482 - val_loss: 0.1790 - val_acc: 0.9427\n",
      "Epoch 14/20\n",
      "93600/93600 [==============================] - 17s 185us/sample - loss: 0.1348 - acc: 0.9504 - val_loss: 0.1870 - val_acc: 0.9397\n",
      "Epoch 15/20\n",
      "93600/93600 [==============================] - 17s 184us/sample - loss: 0.1295 - acc: 0.9513 - val_loss: 0.1932 - val_acc: 0.9401\n",
      "Epoch 16/20\n",
      "93600/93600 [==============================] - 17s 185us/sample - loss: 0.1263 - acc: 0.9520 - val_loss: 0.1929 - val_acc: 0.9405\n",
      "Epoch 17/20\n",
      "93600/93600 [==============================] - 17s 184us/sample - loss: 0.1226 - acc: 0.9536 - val_loss: 0.2036 - val_acc: 0.9371\n",
      "Epoch 18/20\n",
      "93600/93600 [==============================] - 17s 184us/sample - loss: 0.1188 - acc: 0.9549 - val_loss: 0.1916 - val_acc: 0.9407\n",
      "Epoch 19/20\n",
      "93600/93600 [==============================] - 17s 184us/sample - loss: 0.1148 - acc: 0.9552 - val_loss: 0.1839 - val_acc: 0.9437\n",
      "Epoch 20/20\n",
      "93600/93600 [==============================] - 17s 185us/sample - loss: 0.1120 - acc: 0.9563 - val_loss: 0.1959 - val_acc: 0.9405\n"
     ]
    },
    {
     "data": {
      "text/plain": [
       "<tensorflow.python.keras.callbacks.History at 0x258e1ffd470>"
      ]
     },
     "execution_count": 14,
     "metadata": {},
     "output_type": "execute_result"
    }
   ],
   "source": [
    "model.fit(x_train, y_train, epochs=20, validation_split=0.25)"
   ]
  },
  {
   "cell_type": "code",
   "execution_count": 15,
   "metadata": {},
   "outputs": [
    {
     "name": "stdout",
     "output_type": "stream",
     "text": [
      "20800/20800 [==============================] - 1s 49us/sample - loss: 0.2041 - acc: 0.9410\n"
     ]
    },
    {
     "data": {
      "text/plain": [
       "[0.20411638752636813, 0.94100964]"
      ]
     },
     "execution_count": 15,
     "metadata": {},
     "output_type": "execute_result"
    }
   ],
   "source": [
    "model.evaluate(x_test, y_test)"
   ]
  },
  {
   "cell_type": "code",
   "execution_count": 16,
   "metadata": {},
   "outputs": [],
   "source": [
    "tf.keras.models.save_model(model, \"./94-1_accuracy.mdl\")"
   ]
  },
  {
   "cell_type": "code",
   "execution_count": null,
   "metadata": {},
   "outputs": [],
   "source": []
  },
  {
   "cell_type": "code",
   "execution_count": null,
   "metadata": {},
   "outputs": [],
   "source": []
  },
  {
   "cell_type": "code",
   "execution_count": null,
   "metadata": {},
   "outputs": [],
   "source": [
    "%tensorboard --logdir logs"
   ]
  },
  {
   "cell_type": "code",
   "execution_count": null,
   "metadata": {},
   "outputs": [],
   "source": [
    "for i in range(0, y_train.shape[0]):\n",
    "    y_train[i] = y_train[i] -1"
   ]
  },
  {
   "cell_type": "code",
   "execution_count": null,
   "metadata": {},
   "outputs": [],
   "source": [
    "for i in range(0, y_test.shape[0]):\n",
    "    y_test[i] = y_test[i] +1"
   ]
  }
 ],
 "metadata": {
  "kernelspec": {
   "display_name": "Python 3",
   "language": "python",
   "name": "python3"
  },
  "language_info": {
   "codemirror_mode": {
    "name": "ipython",
    "version": 3
   },
   "file_extension": ".py",
   "mimetype": "text/x-python",
   "name": "python",
   "nbconvert_exporter": "python",
   "pygments_lexer": "ipython3",
   "version": "3.6.8"
  }
 },
 "nbformat": 4,
 "nbformat_minor": 2
}
